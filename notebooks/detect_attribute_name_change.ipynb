{
 "cells": [
  {
   "cell_type": "code",
   "execution_count": 1,
   "id": "50c6d87e",
   "metadata": {},
   "outputs": [],
   "source": [
    "import os\n",
    "import json\n",
    "import yaml\n",
    "from loguru import logger\n",
    "from pathlib import Path\n",
    "from difflib import get_close_matches\n",
    "from typing import Dict, Any, List, Tuple"
   ]
  },
  {
   "cell_type": "code",
   "execution_count": 2,
   "id": "ebff3f97",
   "metadata": {},
   "outputs": [],
   "source": [
    "def fetch_all_objects(directory: str) -> List[Dict[str, Any]]:\n",
    "    \"\"\"\n",
    "    Load all JSON files from a specified directory into a list of dictionaries.\n",
    "\n",
    "    Args:\n",
    "        directory (str): Path to the directory containing JSON files.\n",
    "\n",
    "    Returns:\n",
    "        List[Dict[str, Any]]: List of dictionaries, each representing the contents of a JSON file.\n",
    "\n",
    "    Note:\n",
    "        This function mimics querying data from an API by reading local files.\n",
    "        In production, replace this logic with actual API calls as needed.\n",
    "    \"\"\"\n",
    "    json_list = []\n",
    "\n",
    "    for current_file in os.scandir(directory):\n",
    "        if current_file.is_file() and current_file.name.endswith(\".json\"):\n",
    "            with open(current_file.path, \"r\") as json_file:\n",
    "                json_data = json.load(json_file)\n",
    "                json_list.append(json_data)\n",
    "\n",
    "    logger.info(\"Source objects loaded successfully.\")\n",
    "    return json_list"
   ]
  },
  {
   "cell_type": "code",
   "execution_count": 3,
   "id": "519d2da5",
   "metadata": {},
   "outputs": [],
   "source": [
    "def load_valid_attribute_names(file_path: str) -> list:\n",
    "    \"\"\"\n",
    "    Loads the list of valid attribute names from a YAML file.\n",
    "\n",
    "    Args:\n",
    "    - file_path (str): Path to the YAML file containing valid attribute names.\n",
    "\n",
    "    Returns:\n",
    "    - list: A list of valid attribute names.\n",
    "    \"\"\"\n",
    "    try:\n",
    "        with open(file_path, \"r\") as file:\n",
    "            data = yaml.safe_load(file)\n",
    "            logger.info(\"Loaded valid attribute names successfully.\")\n",
    "            return data.get(\"valid_attribute_names\", [])\n",
    "    except Exception as e:\n",
    "        logger.error(f\"Error loading valid attribute names: {e}\")\n",
    "        return []"
   ]
  },
  {
   "cell_type": "code",
   "execution_count": 4,
   "id": "f1eb711e",
   "metadata": {},
   "outputs": [],
   "source": [
    "def capture_unexpected_attributes(\n",
    "    source_objects: List[Dict[str, Any]], valid_attribute_names: List[str]\n",
    ") -> Dict[str, Any]:\n",
    "    \"\"\"\n",
    "    Captures unexpected attribute names from source objects.\n",
    "\n",
    "    Args:\n",
    "    - source_objects (List[Dict[str, Any]]): A list of JSON objects to check.\n",
    "    - valid_attribute_names (List[str]): A list of valid attribute names.\n",
    "\n",
    "    Returns:\n",
    "    - Dict[str, Any]: Dictionary containing unexpected attributes and their details.\n",
    "    \"\"\"\n",
    "    unexpected_attributes = {}\n",
    "    total_attributes_checked = 0\n",
    "    objects_with_issues = []\n",
    "\n",
    "    for obj_index, json_object in enumerate(source_objects):\n",
    "        attributes = json_object.get(\"attributes\", {}).get(\"data\", [])\n",
    "        object_unexpected = []\n",
    "\n",
    "        for attr_index, attribute in enumerate(attributes):\n",
    "            total_attributes_checked += 1\n",
    "            attribute_name = attribute.get(\"attributeName\")\n",
    "\n",
    "            if attribute_name not in valid_attribute_names:\n",
    "                if attribute_name not in unexpected_attributes:\n",
    "                    unexpected_attributes[attribute_name] = {\"count\": 0, \"objects\": []}\n",
    "\n",
    "                unexpected_attributes[attribute_name][\"count\"] += 1\n",
    "                unexpected_attributes[attribute_name][\"objects\"].append(\n",
    "                    {\n",
    "                        \"object_index\": obj_index,\n",
    "                        \"attribute_index\": attr_index,\n",
    "                        \"object_id\": json_object.get(\"id\", \"unknown\"),\n",
    "                    }\n",
    "                )\n",
    "                object_unexpected.append(attribute_name)\n",
    "\n",
    "        if object_unexpected:\n",
    "            objects_with_issues.append(\n",
    "                {\n",
    "                    \"object_index\": obj_index,\n",
    "                    \"object_id\": json_object.get(\"id\", \"unknown\"),\n",
    "                    \"unexpected_attributes\": object_unexpected,\n",
    "                }\n",
    "            )\n",
    "\n",
    "    return {\n",
    "        \"unexpected_attributes\": unexpected_attributes,\n",
    "        \"objects_with_issues\": objects_with_issues,\n",
    "        \"total_attributes_checked\": total_attributes_checked,\n",
    "        \"total_objects_checked\": len(source_objects),\n",
    "    }"
   ]
  },
  {
   "cell_type": "code",
   "execution_count": 5,
   "id": "57871d6c",
   "metadata": {},
   "outputs": [],
   "source": [
    "def add_fuzzy_matching(\n",
    "    unexpected_attributes: Dict[str, Any], valid_attribute_names: List[str]\n",
    ") -> None:\n",
    "    \"\"\"\n",
    "    Adds fuzzy matching suggestions to unexpected attributes.\n",
    "\n",
    "    Args:\n",
    "    - unexpected_attributes (Dict[str, Any]): Dictionary of unexpected attributes to enhance.\n",
    "    - valid_attribute_names (List[str]): List of valid attribute names for matching.\n",
    "    \"\"\"\n",
    "\n",
    "    for unexpected_name in unexpected_attributes.keys():\n",
    "        similar_names = get_close_matches(\n",
    "            unexpected_name, valid_attribute_names, n=3, cutoff=0.6\n",
    "        )\n",
    "        unexpected_attributes[unexpected_name][\"similar_valid_names\"] = similar_names"
   ]
  },
  {
   "cell_type": "code",
   "execution_count": 6,
   "id": "282b2f56",
   "metadata": {},
   "outputs": [],
   "source": [
    "def save_analysis_report(\n",
    "    analysis_results: Dict[str, Any],\n",
    "    output_file: str,\n",
    ") -> bool:\n",
    "    \"\"\"\n",
    "    Saves the analysis results to a YAML file.\n",
    "\n",
    "    Args:\n",
    "    - analysis_results (Dict[str, Any]): Results from the attribute analysis.\n",
    "    - output_file (str): Path to save the report.\n",
    "\n",
    "    Returns:\n",
    "    - bool: True if successful, False otherwise.\n",
    "    \"\"\"\n",
    "    try:\n",
    "        report_data = {\n",
    "            \"analysis_summary\": {\n",
    "                \"total_objects_checked\": analysis_results[\"total_objects_checked\"],\n",
    "                \"objects_with_issues\": len(analysis_results[\"objects_with_issues\"]),\n",
    "                \"unique_unexpected_attributes\": len(\n",
    "                    analysis_results[\"unexpected_attributes\"]\n",
    "                ),\n",
    "            },\n",
    "            \"unexpected_attribute_names\": list(\n",
    "                analysis_results[\"unexpected_attributes\"].keys()\n",
    "            ),\n",
    "            \"detailed_findings\": analysis_results[\"unexpected_attributes\"],\n",
    "            \"affected_objects\": analysis_results[\"objects_with_issues\"],\n",
    "        }\n",
    "\n",
    "        with open(output_file, \"w\") as file:\n",
    "            yaml.dump(report_data, file, default_flow_style=False)\n",
    "        logger.info(f\"Analysis report saved to '{output_file}'\")\n",
    "        return True\n",
    "\n",
    "    except Exception as e:\n",
    "        logger.error(f\"Error saving analysis report: {e}\")\n",
    "        return False"
   ]
  },
  {
   "cell_type": "code",
   "execution_count": 7,
   "id": "9e534640",
   "metadata": {},
   "outputs": [],
   "source": [
    "def detect_unexpected_attribute_names(\n",
    "    source_objects: List[Dict[str, Any]],\n",
    "    valid_attribute_names: List[str],\n",
    "    output_file: str,\n",
    ") -> Dict[str, Any]:\n",
    "    \"\"\"\n",
    "    Main function to detect unexpected attribute names with comprehensive reporting.\n",
    "\n",
    "    Args:\n",
    "    - source_objects (List[Dict[str, Any]]): A list of JSON objects to check.\n",
    "    - valid_attribute_names (List[str]): A list of valid attribute names.\n",
    "    - output_file (str): Path to save the detailed report.\n",
    "\n",
    "    Returns:\n",
    "    - Dict[str, Any]: Summary of findings.\n",
    "    \"\"\"\n",
    "    # Capture unexpected attributes\n",
    "    analysis_results = capture_unexpected_attributes(\n",
    "        source_objects, valid_attribute_names\n",
    "    )\n",
    "\n",
    "    # If unexpected attributes found, enhance with fuzzy matching\n",
    "    if analysis_results[\"unexpected_attributes\"]:\n",
    "        add_fuzzy_matching(\n",
    "            analysis_results[\"unexpected_attributes\"], valid_attribute_names\n",
    "        )\n",
    "\n",
    "        # Log findings\n",
    "        logger.warning(\n",
    "            f\"Found {len(analysis_results['unexpected_attributes'])} unexpected attribute names \"\n",
    "            f\"across {len(analysis_results['objects_with_issues'])} objects\"\n",
    "        )\n",
    "\n",
    "        for attr_name, details in analysis_results[\"unexpected_attributes\"].items():\n",
    "            logger.warning(\n",
    "                f\"Unexpected attribute: '{attr_name}' (found {details['count']} times)\"\n",
    "            )\n",
    "            if details.get(\"similar_valid_names\"):\n",
    "                logger.info(\n",
    "                    f\"  Possible matches: {', '.join(details['similar_valid_names'])}\"\n",
    "                )\n",
    "\n",
    "        # Save detailed report\n",
    "        save_analysis_report(analysis_results, output_file)\n",
    "    else:\n",
    "        logger.info(\"No unexpected attribute names detected.\")\n",
    "\n",
    "    return {\n",
    "        \"total_objects_checked\": analysis_results[\"total_objects_checked\"],\n",
    "        \"total_attributes_checked\": analysis_results[\"total_attributes_checked\"],\n",
    "        \"objects_with_issues\": len(analysis_results[\"objects_with_issues\"]),\n",
    "        \"unique_unexpected_attributes\": len(analysis_results[\"unexpected_attributes\"]),\n",
    "    }"
   ]
  },
  {
   "cell_type": "code",
   "execution_count": 8,
   "id": "31a4da76",
   "metadata": {},
   "outputs": [
    {
     "name": "stderr",
     "output_type": "stream",
     "text": [
      "\u001b[32m2025-09-12 11:25:25.492\u001b[0m | \u001b[1mINFO    \u001b[0m | \u001b[36m__main__\u001b[0m:\u001b[36mfetch_all_objects\u001b[0m:\u001b[36m23\u001b[0m - \u001b[1mSource objects loaded successfully.\u001b[0m\n"
     ]
    }
   ],
   "source": [
    "# Get the source objects\n",
    "data_path = \"../data/1_raw/input\"\n",
    "source_objects = fetch_all_objects(data_path)"
   ]
  },
  {
   "cell_type": "code",
   "execution_count": 9,
   "id": "4c3f08b5",
   "metadata": {},
   "outputs": [
    {
     "name": "stderr",
     "output_type": "stream",
     "text": [
      "\u001b[32m2025-09-12 11:25:33.859\u001b[0m | \u001b[1mINFO    \u001b[0m | \u001b[36m__main__\u001b[0m:\u001b[36mload_valid_attribute_names\u001b[0m:\u001b[36m14\u001b[0m - \u001b[1mLoaded valid attribute names successfully.\u001b[0m\n"
     ]
    }
   ],
   "source": [
    "output_file = \"../configs/unexpected_attributes_report.yaml\"\n",
    "valid_attribute_names = load_valid_attribute_names(\n",
    "    \"../configs/valid_attributes_6_19_25.yaml\"\n",
    ")"
   ]
  },
  {
   "cell_type": "code",
   "execution_count": 10,
   "id": "10bc8c32",
   "metadata": {},
   "outputs": [
    {
     "name": "stderr",
     "output_type": "stream",
     "text": [
      "\u001b[32m2025-09-12 11:25:35.709\u001b[0m | \u001b[33m\u001b[1mWARNING \u001b[0m | \u001b[36m__main__\u001b[0m:\u001b[36mdetect_unexpected_attribute_names\u001b[0m:\u001b[36m29\u001b[0m - \u001b[33m\u001b[1mFound 6 unexpected attribute names across 8 objects\u001b[0m\n",
      "\u001b[32m2025-09-12 11:25:35.710\u001b[0m | \u001b[33m\u001b[1mWARNING \u001b[0m | \u001b[36m__main__\u001b[0m:\u001b[36mdetect_unexpected_attribute_names\u001b[0m:\u001b[36m35\u001b[0m - \u001b[33m\u001b[1mUnexpected attribute: 'Elevation (m)' (found 1 times)\u001b[0m\n",
      "\u001b[32m2025-09-12 11:25:35.710\u001b[0m | \u001b[1mINFO    \u001b[0m | \u001b[36m__main__\u001b[0m:\u001b[36mdetect_unexpected_attribute_names\u001b[0m:\u001b[36m39\u001b[0m - \u001b[1m  Possible matches: Elevation\u001b[0m\n",
      "\u001b[32m2025-09-12 11:25:35.711\u001b[0m | \u001b[33m\u001b[1mWARNING \u001b[0m | \u001b[36m__main__\u001b[0m:\u001b[36mdetect_unexpected_attribute_names\u001b[0m:\u001b[36m35\u001b[0m - \u001b[33m\u001b[1mUnexpected attribute: 'Facility Surrogate Key' (found 4 times)\u001b[0m\n",
      "\u001b[32m2025-09-12 11:25:35.711\u001b[0m | \u001b[1mINFO    \u001b[0m | \u001b[36m__main__\u001b[0m:\u001b[36mdetect_unexpected_attribute_names\u001b[0m:\u001b[36m39\u001b[0m - \u001b[1m  Possible matches: MIDB Facility Surrogate Key, MIDB Unit Surrogate Key, MIDB Equipment Surrogate Key\u001b[0m\n",
      "\u001b[32m2025-09-12 11:25:35.711\u001b[0m | \u001b[33m\u001b[1mWARNING \u001b[0m | \u001b[36m__main__\u001b[0m:\u001b[36mdetect_unexpected_attribute_names\u001b[0m:\u001b[36m35\u001b[0m - \u001b[33m\u001b[1mUnexpected attribute: 'Date Of introduction' (found 1 times)\u001b[0m\n",
      "\u001b[32m2025-09-12 11:25:35.712\u001b[0m | \u001b[1mINFO    \u001b[0m | \u001b[36m__main__\u001b[0m:\u001b[36mdetect_unexpected_attribute_names\u001b[0m:\u001b[36m39\u001b[0m - \u001b[1m  Possible matches: Date Of Introduction\u001b[0m\n",
      "\u001b[32m2025-09-12 11:25:35.712\u001b[0m | \u001b[33m\u001b[1mWARNING \u001b[0m | \u001b[36m__main__\u001b[0m:\u001b[36mdetect_unexpected_attribute_names\u001b[0m:\u001b[36m35\u001b[0m - \u001b[33m\u001b[1mUnexpected attribute: 'Date of Introduction' (found 2 times)\u001b[0m\n",
      "\u001b[32m2025-09-12 11:25:35.712\u001b[0m | \u001b[1mINFO    \u001b[0m | \u001b[36m__main__\u001b[0m:\u001b[36mdetect_unexpected_attribute_names\u001b[0m:\u001b[36m39\u001b[0m - \u001b[1m  Possible matches: Date Of Introduction\u001b[0m\n",
      "\u001b[32m2025-09-12 11:25:35.712\u001b[0m | \u001b[33m\u001b[1mWARNING \u001b[0m | \u001b[36m__main__\u001b[0m:\u001b[36mdetect_unexpected_attribute_names\u001b[0m:\u001b[36m35\u001b[0m - \u001b[33m\u001b[1mUnexpected attribute: 'date of introduction' (found 1 times)\u001b[0m\n",
      "\u001b[32m2025-09-12 11:25:35.712\u001b[0m | \u001b[1mINFO    \u001b[0m | \u001b[36m__main__\u001b[0m:\u001b[36mdetect_unexpected_attribute_names\u001b[0m:\u001b[36m39\u001b[0m - \u001b[1m  Possible matches: Date Of Introduction\u001b[0m\n",
      "\u001b[32m2025-09-12 11:25:35.713\u001b[0m | \u001b[33m\u001b[1mWARNING \u001b[0m | \u001b[36m__main__\u001b[0m:\u001b[36mdetect_unexpected_attribute_names\u001b[0m:\u001b[36m35\u001b[0m - \u001b[33m\u001b[1mUnexpected attribute: 'Elevation m' (found 1 times)\u001b[0m\n",
      "\u001b[32m2025-09-12 11:25:35.713\u001b[0m | \u001b[1mINFO    \u001b[0m | \u001b[36m__main__\u001b[0m:\u001b[36mdetect_unexpected_attribute_names\u001b[0m:\u001b[36m39\u001b[0m - \u001b[1m  Possible matches: Elevation\u001b[0m\n",
      "\u001b[32m2025-09-12 11:25:35.716\u001b[0m | \u001b[1mINFO    \u001b[0m | \u001b[36m__main__\u001b[0m:\u001b[36msave_analysis_report\u001b[0m:\u001b[36m33\u001b[0m - \u001b[1mAnalysis report saved to '../configs/unexpected_attributes_report.yaml'\u001b[0m\n"
     ]
    },
    {
     "data": {
      "text/plain": [
       "{'total_objects_checked': 14,\n",
       " 'total_attributes_checked': 151,\n",
       " 'objects_with_issues': 8,\n",
       " 'unique_unexpected_attributes': 6}"
      ]
     },
     "execution_count": 10,
     "metadata": {},
     "output_type": "execute_result"
    }
   ],
   "source": [
    "# Detect unexpected attribute names across all input objects\n",
    "detect_unexpected_attribute_names(source_objects, valid_attribute_names, output_file)"
   ]
  },
  {
   "cell_type": "code",
   "execution_count": null,
   "id": "38934b67",
   "metadata": {},
   "outputs": [],
   "source": []
  }
 ],
 "metadata": {
  "kernelspec": {
   "display_name": "cds",
   "language": "python",
   "name": "python3"
  },
  "language_info": {
   "codemirror_mode": {
    "name": "ipython",
    "version": 3
   },
   "file_extension": ".py",
   "mimetype": "text/x-python",
   "name": "python",
   "nbconvert_exporter": "python",
   "pygments_lexer": "ipython3",
   "version": "3.13.6"
  }
 },
 "nbformat": 4,
 "nbformat_minor": 5
}
