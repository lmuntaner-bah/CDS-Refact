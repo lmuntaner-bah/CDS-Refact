{
 "cells": [
  {
   "cell_type": "code",
   "execution_count": null,
   "id": "c4d46a67",
   "metadata": {},
   "outputs": [],
   "source": [
    "import os\n",
    "import json\n",
    "from loguru import logger\n",
    "from typing import Any, Dict, List"
   ]
  },
  {
   "cell_type": "code",
   "execution_count": 8,
   "id": "ebd84ff5",
   "metadata": {},
   "outputs": [],
   "source": [
    "def fetch_all_objects(directory: str) -> List[Dict[str, Any]]:\n",
    "    \"\"\"\n",
    "    Load all JSON files from a specified directory into a list of dictionaries.\n",
    "\n",
    "    Args:\n",
    "        directory (str): Path to the directory containing JSON files.\n",
    "\n",
    "    Returns:\n",
    "        List[Dict[str, Any]]: List of dictionaries, each representing the contents of a JSON file.\n",
    "\n",
    "    Note:\n",
    "        This function mimics querying data from an API by reading local files.\n",
    "        In production, replace this logic with actual API calls as needed.\n",
    "    \"\"\"\n",
    "    json_list = []\n",
    "\n",
    "    for current_file in os.scandir(directory):\n",
    "        if current_file.is_file() and current_file.name.endswith(\".json\"):\n",
    "            with open(current_file.path, \"r\") as json_file:\n",
    "                json_data = json.load(json_file)\n",
    "                json_list.append(json_data)\n",
    "\n",
    "    logger.info(\"Source objects loaded successfully.\")\n",
    "    return json_list"
   ]
  },
  {
   "cell_type": "code",
   "execution_count": 19,
   "id": "2ad1111f",
   "metadata": {},
   "outputs": [],
   "source": [
    "def _validate_attributes(attributes: Dict[str, Any]) -> None:\n",
    "    \"\"\"Validate attribute structure and values\"\"\"\n",
    "    if not isinstance(attributes, dict):\n",
    "        raise ValueError(\n",
    "            f\"Invalid attribute type: expected dict, got {type(attributes)}\"\n",
    "        )\n",
    "\n",
    "    required_fields = [\"attributeName\", \"attributeValue\"]\n",
    "\n",
    "    if not attributes[\"data\"]:\n",
    "        raise ValueError(f\"Missing `data` in `attributes`\")\n",
    "\n",
    "    attributes_data_keys = attributes[\"data\"][0].keys()\n",
    "    if not all(k in attributes_data_keys for k in required_fields):\n",
    "        missing_fields = [k for k in required_fields if k not in attributes_data_keys]\n",
    "\n",
    "        raise ValueError(f\"Missing required fields: {missing_fields}\")\n",
    "    return None"
   ]
  },
  {
   "cell_type": "code",
   "execution_count": 10,
   "id": "83d32cce",
   "metadata": {},
   "outputs": [],
   "source": [
    "def _validate_acm(acm: Dict[str, Any]) -> bool:\n",
    "    \"\"\"Validate the ACM structure\"\"\"\n",
    "    required_fields = [\"portion\", \"banner\"]\n",
    "\n",
    "    if not all(field in acm for field in required_fields):\n",
    "        missing = [f for f in required_fields if f not in acm]\n",
    "\n",
    "        logger.warning(f\"Missing ACM fields: {missing}\")\n",
    "        return False\n",
    "\n",
    "    return True"
   ]
  },
  {
   "cell_type": "code",
   "execution_count": 11,
   "id": "e03ffa26",
   "metadata": {},
   "outputs": [],
   "source": [
    "def _validate_required_fields(obj: Dict[str, Any]) -> bool:\n",
    "    \"\"\"Validate required object fields\"\"\"\n",
    "    if not obj.get(\"id\"):\n",
    "        logger.warning(\"Raw object is missing 'id' attribute\")\n",
    "        return False\n",
    "\n",
    "    if not _validate_acm(obj.get(\"acm\", {})):\n",
    "        logger.error(f\"Failed ACM validation for object {obj.get('id')}\")\n",
    "        return False\n",
    "\n",
    "    if not obj.get(\"attributes\"):\n",
    "        logger.warning(f\"No attributes found for object {obj.get('id')}\")\n",
    "        return False\n",
    "\n",
    "    return True"
   ]
  },
  {
   "cell_type": "code",
   "execution_count": 14,
   "id": "0447f870",
   "metadata": {},
   "outputs": [],
   "source": [
    "def preprocess_raw_data(raw_objects: List[Dict[str, Any]]):\n",
    "    \"\"\"\n",
    "    Preprocess and validate raw objects\n",
    "\n",
    "    Args:\n",
    "        raw_objects: List of raw input objects\n",
    "\n",
    "    Returns:\n",
    "        Dict mapping object IDs to preprocessed objects\n",
    "    \"\"\"\n",
    "    processed_data = []\n",
    "\n",
    "    for obj in raw_objects:\n",
    "        # 1. First validate required fields\n",
    "        if not _validate_required_fields(obj):\n",
    "            continue\n",
    "\n",
    "        # 2. Then validate attributes\n",
    "        attributes = obj.get(\"attributes\", {})\n",
    "\n",
    "        try:\n",
    "            _validate_attributes(attributes)\n",
    "        except ValueError as e:\n",
    "            logger.error(\n",
    "                f\"Attribute validation failed for object {obj.get('id')}: {str(e)}\"\n",
    "            )\n",
    "            continue\n",
    "\n",
    "        # 3. If all validations pass, format and add to processed data\n",
    "        processed_data.append(obj)\n",
    "    return processed_data"
   ]
  },
  {
   "cell_type": "code",
   "execution_count": 13,
   "id": "daf84f61",
   "metadata": {},
   "outputs": [
    {
     "name": "stderr",
     "output_type": "stream",
     "text": [
      "\u001b[32m2025-09-10 10:39:28.347\u001b[0m | \u001b[1mINFO    \u001b[0m | \u001b[36m__main__\u001b[0m:\u001b[36mfetch_all_objects\u001b[0m:\u001b[36m23\u001b[0m - \u001b[1mSource objects loaded successfully.\u001b[0m\n"
     ]
    }
   ],
   "source": [
    "# Get the source objects\n",
    "data_path = \"../data/1_raw/input\"\n",
    "source_objects = fetch_all_objects(data_path)"
   ]
  },
  {
   "cell_type": "code",
   "execution_count": 17,
   "id": "19e6e218",
   "metadata": {},
   "outputs": [
    {
     "name": "stderr",
     "output_type": "stream",
     "text": [
      "\u001b[32m2025-09-10 10:49:05.042\u001b[0m | \u001b[31m\u001b[1mERROR   \u001b[0m | \u001b[36m__main__\u001b[0m:\u001b[36mpreprocess_raw_data\u001b[0m:\u001b[36m24\u001b[0m - \u001b[31m\u001b[1mAttribute validation failed for object 76276379-bcde-fghi-jklm-nopqrstuvwxy: Mission `data` in `attributes`\u001b[0m\n",
      "\u001b[32m2025-09-10 10:49:05.043\u001b[0m | \u001b[31m\u001b[1mERROR   \u001b[0m | \u001b[36m__main__\u001b[0m:\u001b[36mpreprocess_raw_data\u001b[0m:\u001b[36m24\u001b[0m - \u001b[31m\u001b[1mAttribute validation failed for object 12345678-abcd-efgh-ijkl-mnopqrstuvwy: Mission `data` in `attributes`\u001b[0m\n"
     ]
    }
   ],
   "source": [
    "preprocessed_data = preprocess_raw_data(source_objects)"
   ]
  },
  {
   "cell_type": "code",
   "execution_count": 18,
   "id": "efd7214b",
   "metadata": {},
   "outputs": [
    {
     "data": {
      "text/plain": [
       "12"
      ]
     },
     "execution_count": 18,
     "metadata": {},
     "output_type": "execute_result"
    }
   ],
   "source": [
    "len(preprocessed_data)"
   ]
  },
  {
   "cell_type": "code",
   "execution_count": null,
   "id": "f9b9ef21",
   "metadata": {},
   "outputs": [],
   "source": []
  }
 ],
 "metadata": {
  "kernelspec": {
   "display_name": "cds",
   "language": "python",
   "name": "python3"
  },
  "language_info": {
   "codemirror_mode": {
    "name": "ipython",
    "version": 3
   },
   "file_extension": ".py",
   "mimetype": "text/x-python",
   "name": "python",
   "nbconvert_exporter": "python",
   "pygments_lexer": "ipython3",
   "version": "3.13.6"
  }
 },
 "nbformat": 4,
 "nbformat_minor": 5
}
