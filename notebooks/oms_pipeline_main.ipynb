{
 "cells": [
  {
   "cell_type": "code",
   "execution_count": null,
   "id": "460d193c",
   "metadata": {},
   "outputs": [],
   "source": [
    "from loguru import logger\n",
    "from rich import print as prt\n",
    "from src.pipelines.oms_data_pipeline import run_pipeline"
   ]
  },
  {
   "cell_type": "code",
   "execution_count": null,
   "id": "8febdb2d",
   "metadata": {},
   "outputs": [],
   "source": [
    "# Set the paths for data, config, and output\n",
    "data_path = \"../data/1_raw/input\"\n",
    "output_path = \"../data/2_processed/output\"\n",
    "schema_path = \"../configs/schemas/standard_object_schema_v1.4.json\"\n",
    "restrictions_path = \"../configs/classifications_config.yaml\"\n",
    "attribute_mapping_path = \"../configs/attribute_mapping.yaml\"\n",
    "attribute_report_path = \"../configs/unexpected_attributes_report.yaml\"\n",
    "valid_attributes_path = \"../configs/valid_attributes_6_19_25.yaml\""
   ]
  },
  {
   "cell_type": "code",
   "execution_count": null,
   "id": "b4df592f",
   "metadata": {},
   "outputs": [],
   "source": [
    "# Run the entire pipeline\n",
    "standard_objects, validation_summary = run_pipeline(\n",
    "    data_path,\n",
    "    output_path,\n",
    "    schema_path,\n",
    "    restrictions_path,\n",
    "    attribute_mapping_path,\n",
    "    attribute_report_path,\n",
    "    valid_attributes_path,\n",
    ")"
   ]
  },
  {
   "cell_type": "code",
   "execution_count": null,
   "id": "5bbf8c6e",
   "metadata": {},
   "outputs": [],
   "source": [
    "prt(standard_objects[0])"
   ]
  },
  {
   "cell_type": "code",
   "execution_count": null,
   "id": "85a99f01",
   "metadata": {},
   "outputs": [],
   "source": [
    "# You can also access the results programmatically\n",
    "if validation_summary[\"all_valid\"]:\n",
    "    logger.info(\"All objects are valid - proceeding with confidence\")\n",
    "else:\n",
    "    logger.warning(\n",
    "        f\"Some objects failed validation. Consider reviewing the {validation_summary['failed_count']} failed objects.\"\n",
    "    )"
   ]
  },
  {
   "cell_type": "code",
   "execution_count": null,
   "id": "420352b6",
   "metadata": {},
   "outputs": [],
   "source": []
  }
 ],
 "metadata": {
  "kernelspec": {
   "display_name": "cds",
   "language": "python",
   "name": "python3"
  },
  "language_info": {
   "codemirror_mode": {
    "name": "ipython",
    "version": 3
   },
   "file_extension": ".py",
   "mimetype": "text/x-python",
   "name": "python",
   "nbconvert_exporter": "python",
   "pygments_lexer": "ipython3",
   "version": "3.13.6"
  }
 },
 "nbformat": 4,
 "nbformat_minor": 5
}
